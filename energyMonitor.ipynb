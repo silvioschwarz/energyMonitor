{
  "cells": [
    {
      "cell_type": "code",
      "source": [
        "from PyP100 import PyP110\n",
        "import pandas as pd\n",
        "from datetime import datetime\n",
        "\n",
        "p110Büro = PyP110.P110(\"192.168.1.107\", \"vio.schwarz89@gmail.com\", \"&uR^8hQVKg%$3oLoEX\") #Creating a P110 plug object\n",
        "\n",
        "p110Büro.handshake() #Creates the cookies required for further methods\n",
        "p110Büro.login() #Sends credentials to the plug and creates AES Key and IV for further methods\n",
        "\n",
        "#PyP110 has all PyP100 functions and additionally allows to query energy usage infos\n",
        "resultBüro = p110Büro.getEnergyUsage() #Returns dict with all the energy usage\n",
        "\n",
        "\n",
        "p110Wohnung = PyP110.P110(\"192.168.1.108\", \"vio.schwarz89@gmail.com\", \"&uR^8hQVKg%$3oLoEX\") #Creating a P110 plug object\n",
        "\n",
        "p110Wohnung.handshake() #Creates the cookies required for further methods\n",
        "p110Wohnung.login() #Sends credentials to the plug and creates AES Key and IV for further methods\n",
        "\n",
        "#PyP110 has all PyP100 functions and additionally allows to query energy usage infos\n",
        "resultWohnung = p110Wohnung.getEnergyUsage() #Returns dict with all the energy usage"
      ],
      "outputs": [],
      "execution_count": 1,
      "metadata": {
        "execution": {
          "iopub.status.busy": "2022-03-27T14:39:03.480Z",
          "iopub.execute_input": "2022-03-27T14:39:03.493Z",
          "shell.execute_reply": "2022-03-27T14:39:09.524Z",
          "iopub.status.idle": "2022-03-27T14:39:09.504Z"
        }
      },
      "id": "d359c18a"
    },
    {
      "cell_type": "code",
      "source": [
        "energy24H = pd.concat(\n",
        "  [pd.DataFrame(pd.date_range(start=datetime.today().strftime('%Y-%m-%d'), \n",
        "                 periods=24,  \n",
        "                 freq='H').strftime('%d-%m-%y %H')),\n",
        "   pd.DataFrame.from_dict(resultBüro[\"result\"][\"past24h\"]),\n",
        "   pd.DataFrame.from_dict(resultWohnung[\"result\"][\"past24h\"])\n",
        "  ], \n",
        "  axis=1)\n",
        "\n",
        "energy24H.columns = [\"Date\",\"Büro\",\"Wohnung\"]\n",
        "energy24H"
      ],
      "outputs": [
        {
          "output_type": "execute_result",
          "execution_count": 2,
          "data": {
            "text/plain": "           Date  Büro  Wohnung\n0   27-03-22 00    13      229\n1   27-03-22 01    13      224\n2   27-03-22 02    13      210\n3   27-03-22 03    14      210\n4   27-03-22 04    13      211\n5   27-03-22 05    13      217\n6   27-03-22 06    14      214\n7   27-03-22 07    13      201\n8   27-03-22 08    13      206\n9   27-03-22 09     0        0\n10  27-03-22 10    14      201\n11  27-03-22 11    13      201\n12  27-03-22 12    13      201\n13  27-03-22 13    14      201\n14  27-03-22 14    13      201\n15  27-03-22 15    13      205\n16  27-03-22 16    13      224\n17  27-03-22 17    14      226\n18  27-03-22 18    13      228\n19  27-03-22 19    14      228\n20  27-03-22 20    13      228\n21  27-03-22 21    14      228\n22  27-03-22 22    13      227\n23  27-03-22 23     9      151",
            "text/html": "<div>\n<style scoped>\n    .dataframe tbody tr th:only-of-type {\n        vertical-align: middle;\n    }\n\n    .dataframe tbody tr th {\n        vertical-align: top;\n    }\n\n    .dataframe thead th {\n        text-align: right;\n    }\n</style>\n<table border=\"1\" class=\"dataframe\">\n  <thead>\n    <tr style=\"text-align: right;\">\n      <th></th>\n      <th>Date</th>\n      <th>Büro</th>\n      <th>Wohnung</th>\n    </tr>\n  </thead>\n  <tbody>\n    <tr>\n      <th>0</th>\n      <td>27-03-22 00</td>\n      <td>13</td>\n      <td>229</td>\n    </tr>\n    <tr>\n      <th>1</th>\n      <td>27-03-22 01</td>\n      <td>13</td>\n      <td>224</td>\n    </tr>\n    <tr>\n      <th>2</th>\n      <td>27-03-22 02</td>\n      <td>13</td>\n      <td>210</td>\n    </tr>\n    <tr>\n      <th>3</th>\n      <td>27-03-22 03</td>\n      <td>14</td>\n      <td>210</td>\n    </tr>\n    <tr>\n      <th>4</th>\n      <td>27-03-22 04</td>\n      <td>13</td>\n      <td>211</td>\n    </tr>\n    <tr>\n      <th>5</th>\n      <td>27-03-22 05</td>\n      <td>13</td>\n      <td>217</td>\n    </tr>\n    <tr>\n      <th>6</th>\n      <td>27-03-22 06</td>\n      <td>14</td>\n      <td>214</td>\n    </tr>\n    <tr>\n      <th>7</th>\n      <td>27-03-22 07</td>\n      <td>13</td>\n      <td>201</td>\n    </tr>\n    <tr>\n      <th>8</th>\n      <td>27-03-22 08</td>\n      <td>13</td>\n      <td>206</td>\n    </tr>\n    <tr>\n      <th>9</th>\n      <td>27-03-22 09</td>\n      <td>0</td>\n      <td>0</td>\n    </tr>\n    <tr>\n      <th>10</th>\n      <td>27-03-22 10</td>\n      <td>14</td>\n      <td>201</td>\n    </tr>\n    <tr>\n      <th>11</th>\n      <td>27-03-22 11</td>\n      <td>13</td>\n      <td>201</td>\n    </tr>\n    <tr>\n      <th>12</th>\n      <td>27-03-22 12</td>\n      <td>13</td>\n      <td>201</td>\n    </tr>\n    <tr>\n      <th>13</th>\n      <td>27-03-22 13</td>\n      <td>14</td>\n      <td>201</td>\n    </tr>\n    <tr>\n      <th>14</th>\n      <td>27-03-22 14</td>\n      <td>13</td>\n      <td>201</td>\n    </tr>\n    <tr>\n      <th>15</th>\n      <td>27-03-22 15</td>\n      <td>13</td>\n      <td>205</td>\n    </tr>\n    <tr>\n      <th>16</th>\n      <td>27-03-22 16</td>\n      <td>13</td>\n      <td>224</td>\n    </tr>\n    <tr>\n      <th>17</th>\n      <td>27-03-22 17</td>\n      <td>14</td>\n      <td>226</td>\n    </tr>\n    <tr>\n      <th>18</th>\n      <td>27-03-22 18</td>\n      <td>13</td>\n      <td>228</td>\n    </tr>\n    <tr>\n      <th>19</th>\n      <td>27-03-22 19</td>\n      <td>14</td>\n      <td>228</td>\n    </tr>\n    <tr>\n      <th>20</th>\n      <td>27-03-22 20</td>\n      <td>13</td>\n      <td>228</td>\n    </tr>\n    <tr>\n      <th>21</th>\n      <td>27-03-22 21</td>\n      <td>14</td>\n      <td>228</td>\n    </tr>\n    <tr>\n      <th>22</th>\n      <td>27-03-22 22</td>\n      <td>13</td>\n      <td>227</td>\n    </tr>\n    <tr>\n      <th>23</th>\n      <td>27-03-22 23</td>\n      <td>9</td>\n      <td>151</td>\n    </tr>\n  </tbody>\n</table>\n</div>"
          },
          "metadata": {}
        }
      ],
      "execution_count": 2,
      "metadata": {
        "collapsed": true,
        "jupyter": {
          "source_hidden": false,
          "outputs_hidden": false
        },
        "nteract": {
          "transient": {
            "deleting": false
          }
        },
        "execution": {
          "iopub.status.busy": "2022-03-27T14:39:09.734Z",
          "iopub.execute_input": "2022-03-27T14:39:09.748Z",
          "iopub.status.idle": "2022-03-27T14:39:09.778Z",
          "shell.execute_reply": "2022-03-27T14:39:09.787Z"
        }
      },
      "id": "11971b86-927f-4580-a8c1-ed761afde637"
    },
    {
      "cell_type": "code",
      "source": [
        "büro7d.columns = pd.date_range(start=datetime.today().strftime('%Y-%m-%d'), \n",
        "                 periods=24,  \n",
        "                 freq='H').strftime('%d-%m-%y %H')\n",
        "büro7d.rename(index=pd.date_range(end=datetime.today().strftime('%Y-%m-%d'), \n",
        "                 periods=7,  \n",
        "                 freq='D').strftime('%d-%m-%y'), inplace=True)\n",
        "\n",
        "b"
      ],
      "outputs": [
        {
          "output_type": "error",
          "ename": "TypeError",
          "evalue": "'Index' object is not callable",
          "traceback": [
            "\u001b[1;31m---------------------------------------------------------------------------\u001b[0m",
            "\u001b[1;31mTypeError\u001b[0m                                 Traceback (most recent call last)",
            "Input \u001b[1;32mIn [22]\u001b[0m, in \u001b[0;36m<cell line: 4>\u001b[1;34m()\u001b[0m\n\u001b[0;32m      1\u001b[0m büro7d\u001b[38;5;241m.\u001b[39mcolumns \u001b[38;5;241m=\u001b[39m pd\u001b[38;5;241m.\u001b[39mdate_range(start\u001b[38;5;241m=\u001b[39mdatetime\u001b[38;5;241m.\u001b[39mtoday()\u001b[38;5;241m.\u001b[39mstrftime(\u001b[38;5;124m'\u001b[39m\u001b[38;5;124m%\u001b[39m\u001b[38;5;124mY-\u001b[39m\u001b[38;5;124m%\u001b[39m\u001b[38;5;124mm-\u001b[39m\u001b[38;5;132;01m%d\u001b[39;00m\u001b[38;5;124m'\u001b[39m), \n\u001b[0;32m      2\u001b[0m                  periods\u001b[38;5;241m=\u001b[39m\u001b[38;5;241m24\u001b[39m,  \n\u001b[0;32m      3\u001b[0m                  freq\u001b[38;5;241m=\u001b[39m\u001b[38;5;124m'\u001b[39m\u001b[38;5;124mH\u001b[39m\u001b[38;5;124m'\u001b[39m)\u001b[38;5;241m.\u001b[39mstrftime(\u001b[38;5;124m'\u001b[39m\u001b[38;5;132;01m%d\u001b[39;00m\u001b[38;5;124m-\u001b[39m\u001b[38;5;124m%\u001b[39m\u001b[38;5;124mm-\u001b[39m\u001b[38;5;124m%\u001b[39m\u001b[38;5;124my \u001b[39m\u001b[38;5;124m%\u001b[39m\u001b[38;5;124mH\u001b[39m\u001b[38;5;124m'\u001b[39m)\n\u001b[1;32m----> 4\u001b[0m \u001b[43mbüro7d\u001b[49m\u001b[38;5;241;43m.\u001b[39;49m\u001b[43mrename\u001b[49m\u001b[43m(\u001b[49m\u001b[43mindex\u001b[49m\u001b[38;5;241;43m=\u001b[39;49m\u001b[43mpd\u001b[49m\u001b[38;5;241;43m.\u001b[39;49m\u001b[43mdate_range\u001b[49m\u001b[43m(\u001b[49m\u001b[43mend\u001b[49m\u001b[38;5;241;43m=\u001b[39;49m\u001b[43mdatetime\u001b[49m\u001b[38;5;241;43m.\u001b[39;49m\u001b[43mtoday\u001b[49m\u001b[43m(\u001b[49m\u001b[43m)\u001b[49m\u001b[38;5;241;43m.\u001b[39;49m\u001b[43mstrftime\u001b[49m\u001b[43m(\u001b[49m\u001b[38;5;124;43m'\u001b[39;49m\u001b[38;5;124;43m%\u001b[39;49m\u001b[38;5;124;43mY-\u001b[39;49m\u001b[38;5;124;43m%\u001b[39;49m\u001b[38;5;124;43mm-\u001b[39;49m\u001b[38;5;132;43;01m%d\u001b[39;49;00m\u001b[38;5;124;43m'\u001b[39;49m\u001b[43m)\u001b[49m\u001b[43m,\u001b[49m\u001b[43m \u001b[49m\n\u001b[0;32m      5\u001b[0m \u001b[43m                 \u001b[49m\u001b[43mperiods\u001b[49m\u001b[38;5;241;43m=\u001b[39;49m\u001b[38;5;241;43m7\u001b[39;49m\u001b[43m,\u001b[49m\u001b[43m  \u001b[49m\n\u001b[0;32m      6\u001b[0m \u001b[43m                 \u001b[49m\u001b[43mfreq\u001b[49m\u001b[38;5;241;43m=\u001b[39;49m\u001b[38;5;124;43m'\u001b[39;49m\u001b[38;5;124;43mD\u001b[39;49m\u001b[38;5;124;43m'\u001b[39;49m\u001b[43m)\u001b[49m\u001b[38;5;241;43m.\u001b[39;49m\u001b[43mstrftime\u001b[49m\u001b[43m(\u001b[49m\u001b[38;5;124;43m'\u001b[39;49m\u001b[38;5;132;43;01m%d\u001b[39;49;00m\u001b[38;5;124;43m-\u001b[39;49m\u001b[38;5;124;43m%\u001b[39;49m\u001b[38;5;124;43mm-\u001b[39;49m\u001b[38;5;124;43m%\u001b[39;49m\u001b[38;5;124;43my\u001b[39;49m\u001b[38;5;124;43m'\u001b[39;49m\u001b[43m)\u001b[49m\u001b[43m,\u001b[49m\u001b[43m \u001b[49m\u001b[43minplace\u001b[49m\u001b[38;5;241;43m=\u001b[39;49m\u001b[38;5;28;43;01mTrue\u001b[39;49;00m\u001b[43m)\u001b[49m\n",
            "File \u001b[1;32mC:\\Python310\\lib\\site-packages\\pandas\\core\\frame.py:5077\u001b[0m, in \u001b[0;36mDataFrame.rename\u001b[1;34m(self, mapper, index, columns, axis, copy, inplace, level, errors)\u001b[0m\n\u001b[0;32m   4958\u001b[0m \u001b[38;5;28;01mdef\u001b[39;00m \u001b[38;5;21mrename\u001b[39m(\n\u001b[0;32m   4959\u001b[0m     \u001b[38;5;28mself\u001b[39m,\n\u001b[0;32m   4960\u001b[0m     mapper: Renamer \u001b[38;5;241m|\u001b[39m \u001b[38;5;28;01mNone\u001b[39;00m \u001b[38;5;241m=\u001b[39m \u001b[38;5;28;01mNone\u001b[39;00m,\n\u001b[1;32m   (...)\u001b[0m\n\u001b[0;32m   4968\u001b[0m     errors: \u001b[38;5;28mstr\u001b[39m \u001b[38;5;241m=\u001b[39m \u001b[38;5;124m\"\u001b[39m\u001b[38;5;124mignore\u001b[39m\u001b[38;5;124m\"\u001b[39m,\n\u001b[0;32m   4969\u001b[0m ) \u001b[38;5;241m-\u001b[39m\u001b[38;5;241m>\u001b[39m DataFrame \u001b[38;5;241m|\u001b[39m \u001b[38;5;28;01mNone\u001b[39;00m:\n\u001b[0;32m   4970\u001b[0m     \u001b[38;5;124;03m\"\"\"\u001b[39;00m\n\u001b[0;32m   4971\u001b[0m \u001b[38;5;124;03m    Alter axes labels.\u001b[39;00m\n\u001b[0;32m   4972\u001b[0m \n\u001b[1;32m   (...)\u001b[0m\n\u001b[0;32m   5075\u001b[0m \u001b[38;5;124;03m    4  3  6\u001b[39;00m\n\u001b[0;32m   5076\u001b[0m \u001b[38;5;124;03m    \"\"\"\u001b[39;00m\n\u001b[1;32m-> 5077\u001b[0m     \u001b[38;5;28;01mreturn\u001b[39;00m \u001b[38;5;28;43msuper\u001b[39;49m\u001b[43m(\u001b[49m\u001b[43m)\u001b[49m\u001b[38;5;241;43m.\u001b[39;49m\u001b[43m_rename\u001b[49m\u001b[43m(\u001b[49m\n\u001b[0;32m   5078\u001b[0m \u001b[43m        \u001b[49m\u001b[43mmapper\u001b[49m\u001b[38;5;241;43m=\u001b[39;49m\u001b[43mmapper\u001b[49m\u001b[43m,\u001b[49m\n\u001b[0;32m   5079\u001b[0m \u001b[43m        \u001b[49m\u001b[43mindex\u001b[49m\u001b[38;5;241;43m=\u001b[39;49m\u001b[43mindex\u001b[49m\u001b[43m,\u001b[49m\n\u001b[0;32m   5080\u001b[0m \u001b[43m        \u001b[49m\u001b[43mcolumns\u001b[49m\u001b[38;5;241;43m=\u001b[39;49m\u001b[43mcolumns\u001b[49m\u001b[43m,\u001b[49m\n\u001b[0;32m   5081\u001b[0m \u001b[43m        \u001b[49m\u001b[43maxis\u001b[49m\u001b[38;5;241;43m=\u001b[39;49m\u001b[43maxis\u001b[49m\u001b[43m,\u001b[49m\n\u001b[0;32m   5082\u001b[0m \u001b[43m        \u001b[49m\u001b[43mcopy\u001b[49m\u001b[38;5;241;43m=\u001b[39;49m\u001b[43mcopy\u001b[49m\u001b[43m,\u001b[49m\n\u001b[0;32m   5083\u001b[0m \u001b[43m        \u001b[49m\u001b[43minplace\u001b[49m\u001b[38;5;241;43m=\u001b[39;49m\u001b[43minplace\u001b[49m\u001b[43m,\u001b[49m\n\u001b[0;32m   5084\u001b[0m \u001b[43m        \u001b[49m\u001b[43mlevel\u001b[49m\u001b[38;5;241;43m=\u001b[39;49m\u001b[43mlevel\u001b[49m\u001b[43m,\u001b[49m\n\u001b[0;32m   5085\u001b[0m \u001b[43m        \u001b[49m\u001b[43merrors\u001b[49m\u001b[38;5;241;43m=\u001b[39;49m\u001b[43merrors\u001b[49m\u001b[43m,\u001b[49m\n\u001b[0;32m   5086\u001b[0m \u001b[43m    \u001b[49m\u001b[43m)\u001b[49m\n",
            "File \u001b[1;32mC:\\Python310\\lib\\site-packages\\pandas\\core\\generic.py:1163\u001b[0m, in \u001b[0;36mNDFrame._rename\u001b[1;34m(self, mapper, index, columns, axis, copy, inplace, level, errors)\u001b[0m\n\u001b[0;32m   1156\u001b[0m         missing_labels \u001b[38;5;241m=\u001b[39m [\n\u001b[0;32m   1157\u001b[0m             label\n\u001b[0;32m   1158\u001b[0m             \u001b[38;5;28;01mfor\u001b[39;00m index, label \u001b[38;5;129;01min\u001b[39;00m \u001b[38;5;28menumerate\u001b[39m(replacements)\n\u001b[0;32m   1159\u001b[0m             \u001b[38;5;28;01mif\u001b[39;00m indexer[index] \u001b[38;5;241m==\u001b[39m \u001b[38;5;241m-\u001b[39m\u001b[38;5;241m1\u001b[39m\n\u001b[0;32m   1160\u001b[0m         ]\n\u001b[0;32m   1161\u001b[0m         \u001b[38;5;28;01mraise\u001b[39;00m \u001b[38;5;167;01mKeyError\u001b[39;00m(\u001b[38;5;124mf\u001b[39m\u001b[38;5;124m\"\u001b[39m\u001b[38;5;132;01m{\u001b[39;00mmissing_labels\u001b[38;5;132;01m}\u001b[39;00m\u001b[38;5;124m not found in axis\u001b[39m\u001b[38;5;124m\"\u001b[39m)\n\u001b[1;32m-> 1163\u001b[0m new_index \u001b[38;5;241m=\u001b[39m \u001b[43max\u001b[49m\u001b[38;5;241;43m.\u001b[39;49m\u001b[43m_transform_index\u001b[49m\u001b[43m(\u001b[49m\u001b[43mf\u001b[49m\u001b[43m,\u001b[49m\u001b[43m \u001b[49m\u001b[43mlevel\u001b[49m\u001b[38;5;241;43m=\u001b[39;49m\u001b[43mlevel\u001b[49m\u001b[43m)\u001b[49m\n\u001b[0;32m   1164\u001b[0m result\u001b[38;5;241m.\u001b[39m_set_axis_nocheck(new_index, axis\u001b[38;5;241m=\u001b[39maxis_no, inplace\u001b[38;5;241m=\u001b[39m\u001b[38;5;28;01mTrue\u001b[39;00m)\n\u001b[0;32m   1165\u001b[0m result\u001b[38;5;241m.\u001b[39m_clear_item_cache()\n",
            "File \u001b[1;32mC:\\Python310\\lib\\site-packages\\pandas\\core\\indexes\\base.py:6131\u001b[0m, in \u001b[0;36mIndex._transform_index\u001b[1;34m(self, func, level)\u001b[0m\n\u001b[0;32m   6129\u001b[0m     \u001b[38;5;28;01mreturn\u001b[39;00m \u001b[38;5;28mtype\u001b[39m(\u001b[38;5;28mself\u001b[39m)\u001b[38;5;241m.\u001b[39mfrom_tuples(items, names\u001b[38;5;241m=\u001b[39m\u001b[38;5;28mself\u001b[39m\u001b[38;5;241m.\u001b[39mnames)\n\u001b[0;32m   6130\u001b[0m \u001b[38;5;28;01melse\u001b[39;00m:\n\u001b[1;32m-> 6131\u001b[0m     items \u001b[38;5;241m=\u001b[39m [func(x) \u001b[38;5;28;01mfor\u001b[39;00m x \u001b[38;5;129;01min\u001b[39;00m \u001b[38;5;28mself\u001b[39m]\n\u001b[0;32m   6132\u001b[0m     \u001b[38;5;28;01mreturn\u001b[39;00m Index(items, name\u001b[38;5;241m=\u001b[39m\u001b[38;5;28mself\u001b[39m\u001b[38;5;241m.\u001b[39mname, tupleize_cols\u001b[38;5;241m=\u001b[39m\u001b[38;5;28;01mFalse\u001b[39;00m)\n",
            "File \u001b[1;32mC:\\Python310\\lib\\site-packages\\pandas\\core\\indexes\\base.py:6131\u001b[0m, in \u001b[0;36m<listcomp>\u001b[1;34m(.0)\u001b[0m\n\u001b[0;32m   6129\u001b[0m     \u001b[38;5;28;01mreturn\u001b[39;00m \u001b[38;5;28mtype\u001b[39m(\u001b[38;5;28mself\u001b[39m)\u001b[38;5;241m.\u001b[39mfrom_tuples(items, names\u001b[38;5;241m=\u001b[39m\u001b[38;5;28mself\u001b[39m\u001b[38;5;241m.\u001b[39mnames)\n\u001b[0;32m   6130\u001b[0m \u001b[38;5;28;01melse\u001b[39;00m:\n\u001b[1;32m-> 6131\u001b[0m     items \u001b[38;5;241m=\u001b[39m [\u001b[43mfunc\u001b[49m\u001b[43m(\u001b[49m\u001b[43mx\u001b[49m\u001b[43m)\u001b[49m \u001b[38;5;28;01mfor\u001b[39;00m x \u001b[38;5;129;01min\u001b[39;00m \u001b[38;5;28mself\u001b[39m]\n\u001b[0;32m   6132\u001b[0m     \u001b[38;5;28;01mreturn\u001b[39;00m Index(items, name\u001b[38;5;241m=\u001b[39m\u001b[38;5;28mself\u001b[39m\u001b[38;5;241m.\u001b[39mname, tupleize_cols\u001b[38;5;241m=\u001b[39m\u001b[38;5;28;01mFalse\u001b[39;00m)\n",
            "\u001b[1;31mTypeError\u001b[0m: 'Index' object is not callable"
          ]
        }
      ],
      "execution_count": 22,
      "metadata": {
        "collapsed": true,
        "jupyter": {
          "source_hidden": false,
          "outputs_hidden": false
        },
        "nteract": {
          "transient": {
            "deleting": false
          }
        },
        "execution": {
          "iopub.status.busy": "2022-03-27T15:02:10.582Z",
          "iopub.execute_input": "2022-03-27T15:02:10.591Z",
          "iopub.status.idle": "2022-03-27T15:00:16.588Z",
          "shell.execute_reply": "2022-03-27T15:00:16.600Z"
        }
      },
      "id": "d040c30e-6ae3-4882-8849-69dac41d90c4"
    },
    {
      "cell_type": "code",
      "source": [
        "time7pd=pd.DataFrame(pd.date_range(end=datetime.today().strftime('%Y-%m-%d'), \n",
        "                 periods=7,  \n",
        "                 freq='D').strftime('%d-%m-%y'))\n",
        "\n",
        "time24pd=pd.DataFrame(pd.date_range(start=datetime.today().strftime('%Y-%m-%d'), \n",
        "                 periods=24,  \n",
        "                 freq='H').strftime('%d-%m-%y %H'))\n",
        "\n",
        "büro7d = pd.DataFrame.from_dict(resultBüro[\"result\"][\"past7d\"])\n",
        "\n",
        "pd.concat([time7pd,büro7d], axis=1)"
      ],
      "outputs": [
        {
          "output_type": "execute_result",
          "execution_count": 16,
          "data": {
            "text/plain": "         0   0   1   2   3   4   5   6   7   8   ...  14  15  16  17  18  19  \\\n0  21-03-22  14  13  13  14  13  13  14  13  13  ...  13  14  13  13  13  14   \n1  22-03-22  13  13  12  13  13  12  13  13  13  ...  13  12  13  13  12  13   \n2  23-03-22  13  13  13  13  12  13  13  13  12  ...  12  13  12  13  14  13   \n3  24-03-22  14  13  14  13  13  14  13  13  14  ...  13  14  13  13  13  13   \n4  25-03-22  13  13  13  13  13  14  13  13  13  ...  14  13  14  13  14  13   \n5  26-03-22  13  14  13  13  14  13  13  14  13  ...  14  13  14  13  13  13   \n6  27-03-22  13  13   0  14  13  13  14  13  13  ...  14  13   9   0   0   0   \n\n   20  21  22  23  \n0  12  13  13  12  \n1  13  12  13  12  \n2  13  13  13  13  \n3  14  13  13  13  \n4  14  13  13  14  \n5  14  13  13  14  \n6   0   0   0   0  \n\n[7 rows x 25 columns]",
            "text/html": "<div>\n<style scoped>\n    .dataframe tbody tr th:only-of-type {\n        vertical-align: middle;\n    }\n\n    .dataframe tbody tr th {\n        vertical-align: top;\n    }\n\n    .dataframe thead th {\n        text-align: right;\n    }\n</style>\n<table border=\"1\" class=\"dataframe\">\n  <thead>\n    <tr style=\"text-align: right;\">\n      <th></th>\n      <th>0</th>\n      <th>0</th>\n      <th>1</th>\n      <th>2</th>\n      <th>3</th>\n      <th>4</th>\n      <th>5</th>\n      <th>6</th>\n      <th>7</th>\n      <th>8</th>\n      <th>...</th>\n      <th>14</th>\n      <th>15</th>\n      <th>16</th>\n      <th>17</th>\n      <th>18</th>\n      <th>19</th>\n      <th>20</th>\n      <th>21</th>\n      <th>22</th>\n      <th>23</th>\n    </tr>\n  </thead>\n  <tbody>\n    <tr>\n      <th>0</th>\n      <td>21-03-22</td>\n      <td>14</td>\n      <td>13</td>\n      <td>13</td>\n      <td>14</td>\n      <td>13</td>\n      <td>13</td>\n      <td>14</td>\n      <td>13</td>\n      <td>13</td>\n      <td>...</td>\n      <td>13</td>\n      <td>14</td>\n      <td>13</td>\n      <td>13</td>\n      <td>13</td>\n      <td>14</td>\n      <td>12</td>\n      <td>13</td>\n      <td>13</td>\n      <td>12</td>\n    </tr>\n    <tr>\n      <th>1</th>\n      <td>22-03-22</td>\n      <td>13</td>\n      <td>13</td>\n      <td>12</td>\n      <td>13</td>\n      <td>13</td>\n      <td>12</td>\n      <td>13</td>\n      <td>13</td>\n      <td>13</td>\n      <td>...</td>\n      <td>13</td>\n      <td>12</td>\n      <td>13</td>\n      <td>13</td>\n      <td>12</td>\n      <td>13</td>\n      <td>13</td>\n      <td>12</td>\n      <td>13</td>\n      <td>12</td>\n    </tr>\n    <tr>\n      <th>2</th>\n      <td>23-03-22</td>\n      <td>13</td>\n      <td>13</td>\n      <td>13</td>\n      <td>13</td>\n      <td>12</td>\n      <td>13</td>\n      <td>13</td>\n      <td>13</td>\n      <td>12</td>\n      <td>...</td>\n      <td>12</td>\n      <td>13</td>\n      <td>12</td>\n      <td>13</td>\n      <td>14</td>\n      <td>13</td>\n      <td>13</td>\n      <td>13</td>\n      <td>13</td>\n      <td>13</td>\n    </tr>\n    <tr>\n      <th>3</th>\n      <td>24-03-22</td>\n      <td>14</td>\n      <td>13</td>\n      <td>14</td>\n      <td>13</td>\n      <td>13</td>\n      <td>14</td>\n      <td>13</td>\n      <td>13</td>\n      <td>14</td>\n      <td>...</td>\n      <td>13</td>\n      <td>14</td>\n      <td>13</td>\n      <td>13</td>\n      <td>13</td>\n      <td>13</td>\n      <td>14</td>\n      <td>13</td>\n      <td>13</td>\n      <td>13</td>\n    </tr>\n    <tr>\n      <th>4</th>\n      <td>25-03-22</td>\n      <td>13</td>\n      <td>13</td>\n      <td>13</td>\n      <td>13</td>\n      <td>13</td>\n      <td>14</td>\n      <td>13</td>\n      <td>13</td>\n      <td>13</td>\n      <td>...</td>\n      <td>14</td>\n      <td>13</td>\n      <td>14</td>\n      <td>13</td>\n      <td>14</td>\n      <td>13</td>\n      <td>14</td>\n      <td>13</td>\n      <td>13</td>\n      <td>14</td>\n    </tr>\n    <tr>\n      <th>5</th>\n      <td>26-03-22</td>\n      <td>13</td>\n      <td>14</td>\n      <td>13</td>\n      <td>13</td>\n      <td>14</td>\n      <td>13</td>\n      <td>13</td>\n      <td>14</td>\n      <td>13</td>\n      <td>...</td>\n      <td>14</td>\n      <td>13</td>\n      <td>14</td>\n      <td>13</td>\n      <td>13</td>\n      <td>13</td>\n      <td>14</td>\n      <td>13</td>\n      <td>13</td>\n      <td>14</td>\n    </tr>\n    <tr>\n      <th>6</th>\n      <td>27-03-22</td>\n      <td>13</td>\n      <td>13</td>\n      <td>0</td>\n      <td>14</td>\n      <td>13</td>\n      <td>13</td>\n      <td>14</td>\n      <td>13</td>\n      <td>13</td>\n      <td>...</td>\n      <td>14</td>\n      <td>13</td>\n      <td>9</td>\n      <td>0</td>\n      <td>0</td>\n      <td>0</td>\n      <td>0</td>\n      <td>0</td>\n      <td>0</td>\n      <td>0</td>\n    </tr>\n  </tbody>\n</table>\n<p>7 rows × 25 columns</p>\n</div>"
          },
          "metadata": {}
        }
      ],
      "execution_count": 16,
      "metadata": {
        "collapsed": true,
        "jupyter": {
          "source_hidden": false,
          "outputs_hidden": false
        },
        "nteract": {
          "transient": {
            "deleting": false
          }
        },
        "execution": {
          "iopub.status.busy": "2022-03-27T14:57:46.007Z",
          "iopub.execute_input": "2022-03-27T14:57:46.018Z",
          "iopub.status.idle": "2022-03-27T14:57:46.045Z",
          "shell.execute_reply": "2022-03-27T14:57:46.057Z"
        }
      },
      "id": "44431ac1-6199-4a49-b2a4-ecd4b06d0e3e"
    },
    {
      "cell_type": "code",
      "source": [
        "energy7D = pd.concat(\n",
        "  [pd.DataFrame(pd.date_range(end=datetime.today().strftime('%Y-%m-%d'), \n",
        "                 periods=7,  \n",
        "                 freq='D').strftime('%d-%m-%y')),\n",
        "   #pd.DataFrame.from_dict(resultBüro[\"result\"][\"past7d\"]),\n",
        "   pd.DataFrame.from_dict(resultWohnung[\"result\"][\"past7d\"])\n",
        "  ], \n",
        "  axis=1)\n",
        "energy7D\n",
        "#energy7D.columns = [\"Date\",\"Büro\",\"Wohnung\"]\n",
        "\n",
        "#energyMonth = pd.concat(\n",
        "#  [pd.DataFrame(pd.date_range(start=datetime.today().strftime('%Y-%m-%d'), \n",
        "#                 periods=30,  \n",
        "#                 freq='D').strftime('%d-%m-%y')),\n",
        "#   pd.DataFrame.from_dict(resultBüro[\"result\"][\"past30d\"]),\n",
        "#   pd.DataFrame.from_dict(resultWohnung[\"result\"][\"past30d\"])\n",
        "#  ], \n",
        "#  axis=1)\n",
        "\n",
        "#energyMonth.columns = [\"Date\",\"Büro\",\"Wohnung\"]"
      ],
      "outputs": [
        {
          "output_type": "execute_result",
          "execution_count": 26,
          "data": {
            "text/plain": "         0    0    1    2    3    4    5    6    7    8   ...   14   15   16  \\\n0  21-03-22    0    0    0    0    0    0    0    0    0  ...    0    0    0   \n1  22-03-22    0    0    0    0    0    0    0    0    0  ...    0    0    0   \n2  23-03-22    0    0    0    0    0    0    0    0    0  ...    0    0    0   \n3  24-03-22    0    0    0    0    0    0    0    0    0  ...    0    0    0   \n4  25-03-22  281  281  281  281  281  281  281  280  324  ...    0    0    0   \n5  26-03-22    0    3    5   64   96   55   12   13   12  ...  117  227  223   \n6  27-03-22  243  242  242  244  244  243  242  243  136  ...    0    0    0   \n\n    17   18   19   20   21   22   23  \n0    0    0    0    0    0    0    0  \n1    0    0    0    0    0    0    0  \n2    0    0    0    0    0    0    0  \n3    0    0    0  144  289  276  275  \n4   14   94  109  105   60    0    0  \n5  263  245  244  248  263  258  250  \n6    0    0    0    0    0    0    0  \n\n[7 rows x 25 columns]",
            "text/html": "<div>\n<style scoped>\n    .dataframe tbody tr th:only-of-type {\n        vertical-align: middle;\n    }\n\n    .dataframe tbody tr th {\n        vertical-align: top;\n    }\n\n    .dataframe thead th {\n        text-align: right;\n    }\n</style>\n<table border=\"1\" class=\"dataframe\">\n  <thead>\n    <tr style=\"text-align: right;\">\n      <th></th>\n      <th>0</th>\n      <th>0</th>\n      <th>1</th>\n      <th>2</th>\n      <th>3</th>\n      <th>4</th>\n      <th>5</th>\n      <th>6</th>\n      <th>7</th>\n      <th>8</th>\n      <th>...</th>\n      <th>14</th>\n      <th>15</th>\n      <th>16</th>\n      <th>17</th>\n      <th>18</th>\n      <th>19</th>\n      <th>20</th>\n      <th>21</th>\n      <th>22</th>\n      <th>23</th>\n    </tr>\n  </thead>\n  <tbody>\n    <tr>\n      <th>0</th>\n      <td>21-03-22</td>\n      <td>0</td>\n      <td>0</td>\n      <td>0</td>\n      <td>0</td>\n      <td>0</td>\n      <td>0</td>\n      <td>0</td>\n      <td>0</td>\n      <td>0</td>\n      <td>...</td>\n      <td>0</td>\n      <td>0</td>\n      <td>0</td>\n      <td>0</td>\n      <td>0</td>\n      <td>0</td>\n      <td>0</td>\n      <td>0</td>\n      <td>0</td>\n      <td>0</td>\n    </tr>\n    <tr>\n      <th>1</th>\n      <td>22-03-22</td>\n      <td>0</td>\n      <td>0</td>\n      <td>0</td>\n      <td>0</td>\n      <td>0</td>\n      <td>0</td>\n      <td>0</td>\n      <td>0</td>\n      <td>0</td>\n      <td>...</td>\n      <td>0</td>\n      <td>0</td>\n      <td>0</td>\n      <td>0</td>\n      <td>0</td>\n      <td>0</td>\n      <td>0</td>\n      <td>0</td>\n      <td>0</td>\n      <td>0</td>\n    </tr>\n    <tr>\n      <th>2</th>\n      <td>23-03-22</td>\n      <td>0</td>\n      <td>0</td>\n      <td>0</td>\n      <td>0</td>\n      <td>0</td>\n      <td>0</td>\n      <td>0</td>\n      <td>0</td>\n      <td>0</td>\n      <td>...</td>\n      <td>0</td>\n      <td>0</td>\n      <td>0</td>\n      <td>0</td>\n      <td>0</td>\n      <td>0</td>\n      <td>0</td>\n      <td>0</td>\n      <td>0</td>\n      <td>0</td>\n    </tr>\n    <tr>\n      <th>3</th>\n      <td>24-03-22</td>\n      <td>0</td>\n      <td>0</td>\n      <td>0</td>\n      <td>0</td>\n      <td>0</td>\n      <td>0</td>\n      <td>0</td>\n      <td>0</td>\n      <td>0</td>\n      <td>...</td>\n      <td>0</td>\n      <td>0</td>\n      <td>0</td>\n      <td>0</td>\n      <td>0</td>\n      <td>0</td>\n      <td>144</td>\n      <td>289</td>\n      <td>276</td>\n      <td>275</td>\n    </tr>\n    <tr>\n      <th>4</th>\n      <td>25-03-22</td>\n      <td>281</td>\n      <td>281</td>\n      <td>281</td>\n      <td>281</td>\n      <td>281</td>\n      <td>281</td>\n      <td>281</td>\n      <td>280</td>\n      <td>324</td>\n      <td>...</td>\n      <td>0</td>\n      <td>0</td>\n      <td>0</td>\n      <td>14</td>\n      <td>94</td>\n      <td>109</td>\n      <td>105</td>\n      <td>60</td>\n      <td>0</td>\n      <td>0</td>\n    </tr>\n    <tr>\n      <th>5</th>\n      <td>26-03-22</td>\n      <td>0</td>\n      <td>3</td>\n      <td>5</td>\n      <td>64</td>\n      <td>96</td>\n      <td>55</td>\n      <td>12</td>\n      <td>13</td>\n      <td>12</td>\n      <td>...</td>\n      <td>117</td>\n      <td>227</td>\n      <td>223</td>\n      <td>263</td>\n      <td>245</td>\n      <td>244</td>\n      <td>248</td>\n      <td>263</td>\n      <td>258</td>\n      <td>250</td>\n    </tr>\n    <tr>\n      <th>6</th>\n      <td>27-03-22</td>\n      <td>243</td>\n      <td>242</td>\n      <td>242</td>\n      <td>244</td>\n      <td>244</td>\n      <td>243</td>\n      <td>242</td>\n      <td>243</td>\n      <td>136</td>\n      <td>...</td>\n      <td>0</td>\n      <td>0</td>\n      <td>0</td>\n      <td>0</td>\n      <td>0</td>\n      <td>0</td>\n      <td>0</td>\n      <td>0</td>\n      <td>0</td>\n      <td>0</td>\n    </tr>\n  </tbody>\n</table>\n<p>7 rows × 25 columns</p>\n</div>"
          },
          "metadata": {}
        }
      ],
      "execution_count": 26,
      "metadata": {
        "collapsed": true,
        "jupyter": {
          "source_hidden": false,
          "outputs_hidden": false
        },
        "nteract": {
          "transient": {
            "deleting": false
          }
        },
        "execution": {
          "iopub.status.busy": "2022-03-21T13:19:07.165Z",
          "iopub.execute_input": "2022-03-21T13:19:07.168Z",
          "iopub.status.idle": "2022-03-21T13:19:07.176Z",
          "shell.execute_reply": "2022-03-21T13:19:07.181Z"
        }
      },
      "id": "c0fa6c7e-ff3d-4fc6-a675-ce0f96b4d248"
    },
    {
      "cell_type": "code",
      "source": [
        "energy24H = pd.DataFrame.from_dict(result[\"result\"][\"past24h\"])\n",
        "energy7D = pd.DataFrame.from_dict(result[\"result\"][\"past7d\"])\n",
        "energyMonth = pd.DataFrame.from_dict(result[\"result\"][\"past30d\"])\n",
        "\n",
        "#dates24H = pd.date_range(start=datetime.today().strftime('%Y-%m-%d'), periods=24,  freq='H').tolist()\n",
        "\n",
        "filepath = \"energyMonitor-\" + datetime.today().strftime('%d%m%Y')\n",
        "energy24H.to_csv(filepath, header=['energy'])  \n",
        "\n",
        "\n",
        "filepath = \"energyMonitor-\" + datetime.today().strftime(\"%Y-Week%W\")\n",
        "energy7D.to_csv(filepath, header=['energy'])\n",
        "\n",
        "filepath = \"energyMonitor-\" + datetime.today().strftime(\"%Y-%B\")\n",
        "energyMonth.to_csv(filepath, header=['energy'])"
      ],
      "outputs": [],
      "execution_count": null,
      "metadata": {},
      "id": "2bb6a3d1"
    },
    {
      "cell_type": "code",
      "source": [
        "pd.DataFrame()"
      ],
      "outputs": [
        {
          "output_type": "execute_result",
          "execution_count": 4,
          "data": {
            "text/html": "<div>\n<style scoped>\n    .dataframe tbody tr th:only-of-type {\n        vertical-align: middle;\n    }\n\n    .dataframe tbody tr th {\n        vertical-align: top;\n    }\n\n    .dataframe thead th {\n        text-align: right;\n    }\n</style>\n<table border=\"1\" class=\"dataframe\">\n  <thead>\n    <tr style=\"text-align: right;\">\n      <th></th>\n    </tr>\n  </thead>\n  <tbody>\n  </tbody>\n</table>\n</div>",
            "text/plain": "Empty DataFrame\nColumns: []\nIndex: []"
          },
          "metadata": {}
        }
      ],
      "execution_count": 4,
      "metadata": {},
      "id": "8c58bc86"
    },
    {
      "cell_type": "code",
      "source": [
        "import sys\n",
        "sys.path"
      ],
      "outputs": [
        {
          "output_type": "execute_result",
          "execution_count": 3,
          "data": {
            "text/plain": "['/home/silvio/Dokumente/GitHub/dataScience/energyMonitor',\n '/usr/lib/python38.zip',\n '/usr/lib/python3.8',\n '/usr/lib/python3.8/lib-dynload',\n '',\n '/home/silvio/Dokumente/GitHub/pythonBot/pythonBot/lib/python3.8/site-packages']"
          },
          "metadata": {}
        }
      ],
      "execution_count": 3,
      "metadata": {},
      "id": "designed-relevance"
    },
    {
      "cell_type": "code",
      "source": [
        "sys.path.append('/home/silvio/Dokumente/GitHub/dataScience/energyMonitor)"
      ],
      "outputs": [],
      "execution_count": null,
      "metadata": {},
      "id": "proud-terminal"
    }
  ],
  "metadata": {
    "kernelspec": {
      "display_name": "energyTapo",
      "language": "python",
      "name": "energytapo"
    },
    "language_info": {
      "name": "python",
      "version": "3.10.2",
      "mimetype": "text/x-python",
      "codemirror_mode": {
        "name": "ipython",
        "version": 3
      },
      "pygments_lexer": "ipython3",
      "nbconvert_exporter": "python",
      "file_extension": ".py"
    },
    "nteract": {
      "version": "0.28.0"
    }
  },
  "nbformat": 4,
  "nbformat_minor": 5
}