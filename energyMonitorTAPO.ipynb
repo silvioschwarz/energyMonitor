{
 "cells": [
  {
   "cell_type": "code",
   "execution_count": 3,
   "id": "744045d6",
   "metadata": {},
   "outputs": [],
   "source": [
    "from PyP100 import PyP110\n",
    "import pandas as pd\n",
    "from datetime import datetime\n",
    "\n",
    "p110 = PyP110.P110(\"192.168.1.107\", \"vio.schwarz89@gmail.com\", \"&uR^8hQVKg%$3oLoEX\") #Creating a P110 plug object\n",
    "\n",
    "p110.handshake() #Creates the cookies required for further methods\n",
    "p110.login() #Sends credentials to the plug and creates AES Key and IV for further methods\n",
    "\n",
    "#PyP110 has all PyP100 functions and additionally allows to query energy usage infos\n",
    "resultBüro = p110.getEnergyUsage() #Returns dict with all the energy usage\n",
    "\n",
    "p110 = PyP110.P110(\"192.168.1.108\", \"vio.schwarz89@gmail.com\", \"&uR^8hQVKg%$3oLoEX\") #Creating a P110 plug object\n",
    "\n",
    "p110.handshake() #Creates the cookies required for further methods\n",
    "p110.login() #Sends credentials to the plug and creates AES Key and IV for further methods\n",
    "\n",
    "#PyP110 has all PyP100 functions and additionally allows to query energy usage infos\n",
    "resultWohnung = p110.getEnergyUsage() #Returns dict with all the energy usage\n",
    "\n",
    "\n",
    "\n",
    "energy24H = pd.DataFrame.from_dict(resultBüro[\"result\"][\"past24h\"])\n",
    "energy7D = pd.DataFrame.from_dict(resultBüro[\"result\"][\"past7d\"])\n",
    "energyMonth = pd.DataFrame.from_dict(resultBüro[\"result\"][\"past30d\"])\n",
    "\n",
    "energy24H = pd.DataFrame.from_dict(resultWohnung[\"result\"][\"past24h\"])\n",
    "energy7D = pd.DataFrame.from_dict(resultWohnung[\"result\"][\"past7d\"])\n",
    "energyMonth = pd.DataFrame.from_dict(resultWohnung[\"result\"][\"past30d\"])\n",
    "\n",
    "dates24H = pd.date_range(start=datetime.today().strftime('%Y-%m-%d'), periods=24,  freq='H').tolist()\n",
    "\n",
    "filepath = \"energyMonitor-\" + datetime.today().strftime('%d%m%Y')\n",
    "#energy24H.to_csv(filepath, header=['energy'])  \n",
    "\n",
    "\n",
    "filepath = \"energyMonitor-\" + datetime.today().strftime(\"%Y-Week%W\")\n",
    "#energy7D.to_csv(filepath, header=['energy'])\n",
    "\n",
    "filepath = \"energyMonitor-\" + datetime.today().strftime(\"%Y-%B\")\n",
    "#energyMonth.to_csv(filepath, header=['energy'])"
   ]
  },
  {
   "cell_type": "code",
   "execution_count": 4,
   "id": "0fc14f05",
   "metadata": {},
   "outputs": [
    {
     "data": {
      "text/html": [
       "<div>\n",
       "<style scoped>\n",
       "    .dataframe tbody tr th:only-of-type {\n",
       "        vertical-align: middle;\n",
       "    }\n",
       "\n",
       "    .dataframe tbody tr th {\n",
       "        vertical-align: top;\n",
       "    }\n",
       "\n",
       "    .dataframe thead th {\n",
       "        text-align: right;\n",
       "    }\n",
       "</style>\n",
       "<table border=\"1\" class=\"dataframe\">\n",
       "  <thead>\n",
       "    <tr style=\"text-align: right;\">\n",
       "      <th></th>\n",
       "      <th>energy</th>\n",
       "    </tr>\n",
       "  </thead>\n",
       "  <tbody>\n",
       "    <tr>\n",
       "      <th>0</th>\n",
       "      <td>13</td>\n",
       "    </tr>\n",
       "    <tr>\n",
       "      <th>1</th>\n",
       "      <td>13</td>\n",
       "    </tr>\n",
       "    <tr>\n",
       "      <th>2</th>\n",
       "      <td>14</td>\n",
       "    </tr>\n",
       "    <tr>\n",
       "      <th>3</th>\n",
       "      <td>13</td>\n",
       "    </tr>\n",
       "    <tr>\n",
       "      <th>4</th>\n",
       "      <td>13</td>\n",
       "    </tr>\n",
       "    <tr>\n",
       "      <th>5</th>\n",
       "      <td>14</td>\n",
       "    </tr>\n",
       "    <tr>\n",
       "      <th>6</th>\n",
       "      <td>13</td>\n",
       "    </tr>\n",
       "    <tr>\n",
       "      <th>7</th>\n",
       "      <td>13</td>\n",
       "    </tr>\n",
       "    <tr>\n",
       "      <th>8</th>\n",
       "      <td>13</td>\n",
       "    </tr>\n",
       "    <tr>\n",
       "      <th>9</th>\n",
       "      <td>14</td>\n",
       "    </tr>\n",
       "    <tr>\n",
       "      <th>10</th>\n",
       "      <td>13</td>\n",
       "    </tr>\n",
       "    <tr>\n",
       "      <th>11</th>\n",
       "      <td>13</td>\n",
       "    </tr>\n",
       "    <tr>\n",
       "      <th>12</th>\n",
       "      <td>14</td>\n",
       "    </tr>\n",
       "    <tr>\n",
       "      <th>13</th>\n",
       "      <td>13</td>\n",
       "    </tr>\n",
       "    <tr>\n",
       "      <th>14</th>\n",
       "      <td>13</td>\n",
       "    </tr>\n",
       "    <tr>\n",
       "      <th>15</th>\n",
       "      <td>13</td>\n",
       "    </tr>\n",
       "    <tr>\n",
       "      <th>16</th>\n",
       "      <td>14</td>\n",
       "    </tr>\n",
       "    <tr>\n",
       "      <th>17</th>\n",
       "      <td>13</td>\n",
       "    </tr>\n",
       "    <tr>\n",
       "      <th>18</th>\n",
       "      <td>13</td>\n",
       "    </tr>\n",
       "    <tr>\n",
       "      <th>19</th>\n",
       "      <td>14</td>\n",
       "    </tr>\n",
       "    <tr>\n",
       "      <th>20</th>\n",
       "      <td>13</td>\n",
       "    </tr>\n",
       "    <tr>\n",
       "      <th>21</th>\n",
       "      <td>14</td>\n",
       "    </tr>\n",
       "    <tr>\n",
       "      <th>22</th>\n",
       "      <td>13</td>\n",
       "    </tr>\n",
       "    <tr>\n",
       "      <th>23</th>\n",
       "      <td>11</td>\n",
       "    </tr>\n",
       "  </tbody>\n",
       "</table>\n",
       "</div>"
      ],
      "text/plain": [
       "    energy\n",
       "0       13\n",
       "1       13\n",
       "2       14\n",
       "3       13\n",
       "4       13\n",
       "5       14\n",
       "6       13\n",
       "7       13\n",
       "8       13\n",
       "9       14\n",
       "10      13\n",
       "11      13\n",
       "12      14\n",
       "13      13\n",
       "14      13\n",
       "15      13\n",
       "16      14\n",
       "17      13\n",
       "18      13\n",
       "19      14\n",
       "20      13\n",
       "21      14\n",
       "22      13\n",
       "23      11"
      ]
     },
     "execution_count": 4,
     "metadata": {},
     "output_type": "execute_result"
    }
   ],
   "source": [
    "energy24H = pd.DataFrame.from_dict(result[\"result\"][\"past24h\"])\n",
    "energy24H.columns=[\"energy\"]\n",
    "energy24H"
   ]
  },
  {
   "cell_type": "code",
   "execution_count": 89,
   "id": "5bc94544",
   "metadata": {},
   "outputs": [],
   "source": [
    "colNames = [\"hour\",\"energy\"]\n",
    "energyMonth = pd.read_csv(\"energyMonitor-19032022\",names=colNames, header=0)"
   ]
  },
  {
   "cell_type": "code",
   "execution_count": 91,
   "id": "cf936894",
   "metadata": {},
   "outputs": [
    {
     "data": {
      "text/plain": [
       "<AxesSubplot:>"
      ]
     },
     "execution_count": 91,
     "metadata": {},
     "output_type": "execute_result"
    },
    {
     "data": {
      "image/png": "[encoded data removed]",
      "text/plain": [
       "<Figure size 432x288 with 1 Axes>"
      ]
     },
     "metadata": {
      "needs_background": "light"
     },
     "output_type": "display_data"
    }
   ],
   "source": [
    "energyMonth.plot()"
   ]
  },
  {
   "cell_type": "code",
   "execution_count": 106,
   "id": "d38b6880",
   "metadata": {},
   "outputs": [
    {
     "data": {
      "image/png": "[encoded data removed]",
      "text/plain": [
       "<Figure size 720x360 with 1 Axes>"
      ]
     },
     "metadata": {
      "needs_background": "light"
     },
     "output_type": "display_data"
    }
   ],
   "source": [
    "import matplotlib.pyplot as plt\n",
    "import numpy as np\n",
    "\n",
    "plt.style.use('_mpl-gallery')\n",
    "\n",
    "\n",
    "# plot\n",
    "fig, ax = plt.subplots(1,1,figsize=(10,5))\n",
    "\n",
    "ax.plot(energyMonth[\"hour\"], energyMonth[\"energy\"], linewidth=2.0)\n",
    "\n",
    "ymax = np.max(energyMonth[\"energy\"])\n",
    "\n",
    "ax.set(xlim=(0, 24), xticks=np.arange(1, 25),\n",
    "       ylim=(0, ymax +10), yticks=np.arange(1, ymax,50),\n",
    "      xlabel=\"hour\",ylabel=\"Energy [W]\")\n",
    "\n",
    "plt.show()"
   ]
  },
  {
   "cell_type": "code",
   "execution_count": 127,
   "id": "ad13a83c",
   "metadata": {},
   "outputs": [],
   "source": [
    "from datetime import timedelta\n",
    "hours = [1,2,3,4,5,6,7,8,9,10,11,12]\n",
    "dates = [datetime.now() + timedelta(hours=i) for i in hours]"
   ]
  },
  {
   "cell_type": "code",
   "execution_count": 129,
   "id": "6b382f9f",
   "metadata": {},
   "outputs": [
    {
     "data": {
      "text/plain": [
       "'19032022 13:03'"
      ]
     },
     "execution_count": 129,
     "metadata": {},
     "output_type": "execute_result"
    }
   ],
   "source": [
    "dates[0].strftime('%d%m%Y %H:%m')"
   ]
  },
  {
   "cell_type": "code",
   "execution_count": 125,
   "id": "6abcdd2f",
   "metadata": {},
   "outputs": [
    {
     "data": {
      "text/plain": [
       "datetime.datetime(2016, 12, 2, 11, 0)"
      ]
     },
     "execution_count": 125,
     "metadata": {},
     "output_type": "execute_result"
    }
   ],
   "source": [
    "DATE_TIME_STRING_FORMAT = '%Y-%m-%dT%H:%MZ'\n",
    "\n",
    "datetime.strptime('2016-12-02T11:00Z',DATE_TIME_STRING_FORMAT)"
   ]
  },
  {
   "cell_type": "code",
   "execution_count": 147,
   "id": "20945de8",
   "metadata": {},
   "outputs": [
    {
     "data": {
      "text/plain": [
       "[Timestamp('2022-03-19 00:00:00', freq='H'),\n",
       " Timestamp('2022-03-19 01:00:00', freq='H'),\n",
       " Timestamp('2022-03-19 02:00:00', freq='H'),\n",
       " Timestamp('2022-03-19 03:00:00', freq='H'),\n",
       " Timestamp('2022-03-19 04:00:00', freq='H'),\n",
       " Timestamp('2022-03-19 05:00:00', freq='H'),\n",
       " Timestamp('2022-03-19 06:00:00', freq='H'),\n",
       " Timestamp('2022-03-19 07:00:00', freq='H'),\n",
       " Timestamp('2022-03-19 08:00:00', freq='H'),\n",
       " Timestamp('2022-03-19 09:00:00', freq='H'),\n",
       " Timestamp('2022-03-19 10:00:00', freq='H'),\n",
       " Timestamp('2022-03-19 11:00:00', freq='H'),\n",
       " Timestamp('2022-03-19 12:00:00', freq='H'),\n",
       " Timestamp('2022-03-19 13:00:00', freq='H'),\n",
       " Timestamp('2022-03-19 14:00:00', freq='H'),\n",
       " Timestamp('2022-03-19 15:00:00', freq='H'),\n",
       " Timestamp('2022-03-19 16:00:00', freq='H'),\n",
       " Timestamp('2022-03-19 17:00:00', freq='H'),\n",
       " Timestamp('2022-03-19 18:00:00', freq='H'),\n",
       " Timestamp('2022-03-19 19:00:00', freq='H'),\n",
       " Timestamp('2022-03-19 20:00:00', freq='H'),\n",
       " Timestamp('2022-03-19 21:00:00', freq='H'),\n",
       " Timestamp('2022-03-19 22:00:00', freq='H'),\n",
       " Timestamp('2022-03-19 23:00:00', freq='H')]"
      ]
     },
     "execution_count": 147,
     "metadata": {},
     "output_type": "execute_result"
    }
   ],
   "source": [
    "pd.date_range(start=datetime.today().strftime('%Y-%m-%d'), periods=24,  freq='H').tolist()"
   ]
  },
  {
   "cell_type": "code",
   "execution_count": 144,
   "id": "065dbb52",
   "metadata": {},
   "outputs": [
    {
     "data": {
      "text/plain": [
       "'2022-03-19'"
      ]
     },
     "execution_count": 144,
     "metadata": {},
     "output_type": "execute_result"
    }
   ],
   "source": [
    "datetime.today().strftime('%Y-%m-%d')"
   ]
  },
  {
   "cell_type": "code",
   "execution_count": null,
   "id": "c77abd21",
   "metadata": {},
   "outputs": [],
   "source": []
  }
 ],
 "metadata": {
  "kernelspec": {
   "display_name": "energy",
   "language": "python",
   "name": "energy"
  },
  "language_info": {
   "codemirror_mode": {
    "name": "ipython",
    "version": 3
   },
   "file_extension": ".py",
   "mimetype": "text/x-python",
   "name": "python",
   "nbconvert_exporter": "python",
   "pygments_lexer": "ipython3",
   "version": "3.8.10"
  }
 },
 "nbformat": 4,
 "nbformat_minor": 5
}
